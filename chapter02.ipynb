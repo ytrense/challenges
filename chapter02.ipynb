{
 "cells": [
  {
   "cell_type": "code",
   "execution_count": null,
   "id": "45d5b2f7",
   "metadata": {},
   "outputs": [],
   "source": [
    "def find_proper_divisors(number):\n",
    "    return [i for i in range(1, number // 2 + 1) if number % i == 0]"
   ]
  },
  {
   "cell_type": "code",
   "execution_count": null,
   "id": "ea58e857",
   "metadata": {},
   "outputs": [],
   "source": [
    "find_proper_divisors(24)"
   ]
  },
  {
   "cell_type": "code",
   "execution_count": null,
   "id": "c198a1cf",
   "metadata": {},
   "outputs": [],
   "source": [
    "find_proper_divisors(102)"
   ]
  },
  {
   "cell_type": "code",
   "execution_count": 7,
   "id": "1b732436",
   "metadata": {},
   "outputs": [],
   "source": [
    "def is_prime(potentially_prime):\n",
    "    for i in range(2, potentially_prime // 2 + 1):\n",
    "        if potentially_prime % i == 0:\n",
    "            return False\n",
    "    return True"
   ]
  },
  {
   "cell_type": "code",
   "execution_count": 8,
   "id": "eff74573",
   "metadata": {},
   "outputs": [
    {
     "name": "stdout",
     "output_type": "stream",
     "text": [
      "[1, 2, 3, 5, 7, 11, 13, 17, 19, 23]\n"
     ]
    }
   ],
   "source": [
    "primes = [number for number in range(1, 25) if is_prime(number)]\n",
    "print(primes)"
   ]
  },
  {
   "cell_type": "code",
   "execution_count": 9,
   "id": "43fbf234",
   "metadata": {},
   "outputs": [],
   "source": [
    "def calc(m, n):\n",
    "    return ((m * n) // 2) % 7"
   ]
  },
  {
   "cell_type": "code",
   "execution_count": 10,
   "id": "c00dd6f1",
   "metadata": {},
   "outputs": [
    {
     "data": {
      "text/plain": [
       "0"
      ]
     },
     "execution_count": 10,
     "metadata": {},
     "output_type": "execute_result"
    }
   ],
   "source": [
    "calc(6,7)"
   ]
  },
  {
   "cell_type": "code",
   "execution_count": 11,
   "id": "bcd63f19",
   "metadata": {},
   "outputs": [
    {
     "data": {
      "text/plain": [
       "5"
      ]
     },
     "execution_count": 11,
     "metadata": {},
     "output_type": "execute_result"
    }
   ],
   "source": [
    "calc(5,5)"
   ]
  },
  {
   "cell_type": "code",
   "execution_count": 15,
   "id": "d78bc565",
   "metadata": {},
   "outputs": [],
   "source": [
    "def calc_sum_and_count_all_numbers_div_by_2_or_7(max_exclusive):\n",
    "    count = 0\n",
    "    sum = 0 \n",
    "    for i in range(1, max_exclusive):\n",
    "        if i % 2 == 0 or i % 7 == 0:\n",
    "            count = count + 1\n",
    "            sum = sum + i\n",
    "    print(\"count \", count)\n",
    "    print(\"sum \", sum)"
   ]
  },
  {
   "cell_type": "code",
   "execution_count": 16,
   "id": "4311a4ef",
   "metadata": {},
   "outputs": [
    {
     "name": "stdout",
     "output_type": "stream",
     "text": [
      "count  1\n",
      "sum  2\n"
     ]
    }
   ],
   "source": [
    "calc_sum_and_count_all_numbers_div_by_2_or_7(3)"
   ]
  },
  {
   "cell_type": "code",
   "execution_count": 17,
   "id": "7910598c",
   "metadata": {},
   "outputs": [
    {
     "name": "stdout",
     "output_type": "stream",
     "text": [
      "count  4\n",
      "sum  19\n"
     ]
    }
   ],
   "source": [
    "calc_sum_and_count_all_numbers_div_by_2_or_7(8)"
   ]
  },
  {
   "cell_type": "code",
   "execution_count": 18,
   "id": "c2edbec0",
   "metadata": {},
   "outputs": [
    {
     "name": "stdout",
     "output_type": "stream",
     "text": [
      "count  8\n",
      "sum  63\n"
     ]
    }
   ],
   "source": [
    "calc_sum_and_count_all_numbers_div_by_2_or_7(15)"
   ]
  },
  {
   "cell_type": "code",
   "execution_count": 34,
   "id": "579fb1c6",
   "metadata": {},
   "outputs": [],
   "source": [
    "def is_even(number):\n",
    "    return number % 2 == 0"
   ]
  },
  {
   "cell_type": "code",
   "execution_count": 32,
   "id": "4caacd57",
   "metadata": {},
   "outputs": [],
   "source": [
    "def is_odd(number):\n",
    "    return number % 2 != 0"
   ]
  },
  {
   "cell_type": "code",
   "execution_count": 33,
   "id": "f55ca383",
   "metadata": {},
   "outputs": [
    {
     "data": {
      "text/plain": [
       "False"
      ]
     },
     "execution_count": 33,
     "metadata": {},
     "output_type": "execute_result"
    }
   ],
   "source": [
    "is_odd(8)"
   ]
  },
  {
   "cell_type": "code",
   "execution_count": 35,
   "id": "d6564a32",
   "metadata": {},
   "outputs": [
    {
     "data": {
      "text/plain": [
       "True"
      ]
     },
     "execution_count": 35,
     "metadata": {},
     "output_type": "execute_result"
    }
   ],
   "source": [
    "is_even(4)"
   ]
  },
  {
   "cell_type": "code",
   "execution_count": null,
   "id": "489c5f66",
   "metadata": {},
   "outputs": [],
   "source": []
  }
 ],
 "metadata": {
  "kernelspec": {
   "display_name": "Python 3 (ipykernel)",
   "language": "python",
   "name": "python3"
  },
  "language_info": {
   "codemirror_mode": {
    "name": "ipython",
    "version": 3
   },
   "file_extension": ".py",
   "mimetype": "text/x-python",
   "name": "python",
   "nbconvert_exporter": "python",
   "pygments_lexer": "ipython3",
   "version": "3.11.5"
  }
 },
 "nbformat": 4,
 "nbformat_minor": 5
}
